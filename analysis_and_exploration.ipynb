{
 "cells": [
  {
   "cell_type": "code",
   "execution_count": 1,
   "id": "c23ad2da-01b0-4689-9ede-b604350f279e",
   "metadata": {},
   "outputs": [],
   "source": [
    "# Import dependencies\n",
    "%matplotlib inline\n",
    "import matplotlib.pyplot as plt\n",
    "from matplotlib import style\n",
    "style.use('fivethirtyeight')\n",
    "import numpy as np\n",
    "import pandas as pd\n",
    "import datetime as dt\n",
    "import numpy as np\n",
    "from datetime import datetime\n",
    "import sqlalchemy\n",
    "from sqlalchemy.ext.automap import automap_base\n",
    "from sqlalchemy.orm import Session\n",
    "from sqlalchemy import create_engine, func\n",
    "from sqlalchemy import text, inspect"
   ]
  },
  {
   "cell_type": "markdown",
   "id": "4e75bf25-688d-4ecc-9b9a-e63f4a8a4e0c",
   "metadata": {},
   "source": [
    "## Reflect Tables into SQLAlchemy ORM"
   ]
  },
  {
   "cell_type": "code",
   "execution_count": 2,
   "id": "e17e61df-83de-46c2-b299-57b9af0bc6b8",
   "metadata": {},
   "outputs": [],
   "source": [
    "# Create engine to hawaii.sqlite\n",
    "engine = create_engine(\"sqlite:///Resources/hawaii.sqlite\")"
   ]
  },
  {
   "cell_type": "code",
   "execution_count": 3,
   "id": "0f5398ea-3ae6-4249-b0cd-7057549409f6",
   "metadata": {},
   "outputs": [],
   "source": [
    "# reflect an existing database into a new model\n",
    "Base = automap_base()\n",
    "\n",
    "# reflect the tables\n",
    "Base.prepare(engine, reflect=True)"
   ]
  },
  {
   "cell_type": "markdown",
   "id": "c8aa808b-36bb-493b-a9dd-ec27fae470e5",
   "metadata": {},
   "source": [
    "## Explore database structure"
   ]
  },
  {
   "cell_type": "code",
   "execution_count": 4,
   "id": "49e75bd4-0960-4739-9838-5b85f6e3b2af",
   "metadata": {},
   "outputs": [
    {
     "name": "stdout",
     "output_type": "stream",
     "text": [
      "measurement\n",
      "station\n"
     ]
    }
   ],
   "source": [
    "# Create inspection object for engine\n",
    "inspector = inspect(engine)\n",
    "\n",
    "# Get table names of hawaii.sqlite\n",
    "table_names = inspector.get_table_names()\n",
    "\n",
    "for table_name in table_names:\n",
    "    print(table_name)"
   ]
  },
  {
   "cell_type": "code",
   "execution_count": 5,
   "id": "95fe66da-f160-4b22-8df5-0c11fa73bcfd",
   "metadata": {},
   "outputs": [
    {
     "name": "stdout",
     "output_type": "stream",
     "text": [
      "column name: id | data type: INTEGER | primary key: True\n",
      "column name: station | data type: TEXT | primary key: False\n",
      "column name: date | data type: TEXT | primary key: False\n",
      "column name: prcp | data type: FLOAT | primary key: False\n",
      "column name: tobs | data type: FLOAT | primary key: False\n"
     ]
    }
   ],
   "source": [
    "# Get column names of table \"measurement\"\n",
    "measurement_cols = inspector.get_columns(\"measurement\")\n",
    "\n",
    "for measurement_col in measurement_cols:\n",
    "    measurement_col_name = measurement_col[\"name\"]\n",
    "    measurement_col_type = measurement_col[\"type\"]\n",
    "    if measurement_col[\"primary_key\"] == 1:\n",
    "        primary_key_t_f = \"True\"\n",
    "    else:\n",
    "        primary_key_t_f = \"False\"\n",
    "    print(f\"column name: {measurement_col_name} | data type: {measurement_col_type} | primary key: {primary_key_t_f}\")"
   ]
  },
  {
   "cell_type": "code",
   "execution_count": 6,
   "id": "48b7c04b-e04a-4c1e-b1b5-87c26cf5cdfc",
   "metadata": {},
   "outputs": [
    {
     "name": "stdout",
     "output_type": "stream",
     "text": [
      "column name: id | data type: INTEGER | primary key: True\n",
      "column name: station | data type: TEXT | primary key: False\n",
      "column name: name | data type: TEXT | primary key: False\n",
      "column name: latitude | data type: FLOAT | primary key: False\n",
      "column name: longitude | data type: FLOAT | primary key: False\n",
      "column name: elevation | data type: FLOAT | primary key: False\n"
     ]
    }
   ],
   "source": [
    "# Get column names of table \"station\"\n",
    "station_cols = inspector.get_columns(\"station\")\n",
    "\n",
    "for station_col in station_cols:\n",
    "    station_col_name = station_col[\"name\"]\n",
    "    station_col_type = station_col[\"type\"]\n",
    "    if station_col[\"primary_key\"] == 1:\n",
    "        primary_key_t_f = \"True\"\n",
    "    else:\n",
    "        primary_key_t_f = \"False\"\n",
    "    print(f\"column name: {station_col_name} | data type: {station_col_type} | primary key: {primary_key_t_f}\")"
   ]
  },
  {
   "cell_type": "code",
   "execution_count": 7,
   "id": "05663bfc-2abf-4814-892b-d98d80f5a1aa",
   "metadata": {},
   "outputs": [],
   "source": [
    "# Save references to each table\n",
    "Measurement = Base.classes.measurement\n",
    "Station = Base.classes.station"
   ]
  },
  {
   "cell_type": "markdown",
   "id": "29e84a6a-edde-4af4-92ca-9bdc13b6b6a0",
   "metadata": {},
   "source": [
    "## Open session"
   ]
  },
  {
   "cell_type": "code",
   "execution_count": 8,
   "id": "0fc86748-c5ca-4e49-a166-db8c80616280",
   "metadata": {},
   "outputs": [],
   "source": [
    "# Open session to qury hawaii.sqlite\n",
    "session = Session(bind=engine)"
   ]
  },
  {
   "cell_type": "markdown",
   "id": "2a1c6062-7dea-4d16-8fd5-b57096743d4c",
   "metadata": {},
   "source": [
    "## Exploratory Precipitation Analysis"
   ]
  },
  {
   "cell_type": "code",
   "execution_count": 9,
   "id": "ac1b8130-1a20-44c7-989a-d26f730ced89",
   "metadata": {},
   "outputs": [
    {
     "name": "stdout",
     "output_type": "stream",
     "text": [
      "2017-08-23\n"
     ]
    }
   ],
   "source": [
    "# Design a query to retrieve the last 12 months of precipitation data and plot the results. \n",
    "# Starting from the most recent data point in the database. \n",
    "most_recent_date_str = session.query(func.max(Measurement.date)).first()[0]\n",
    "\n",
    "most_recent_date_obj = (datetime.strptime(most_recent_date_str, \"%Y-%m-%d\")).date()\n",
    "print(most_recent_date_obj)"
   ]
  },
  {
   "cell_type": "code",
   "execution_count": 10,
   "id": "69eb1223-d2e3-4e4d-9d4f-ad25b48fa57b",
   "metadata": {},
   "outputs": [
    {
     "name": "stdout",
     "output_type": "stream",
     "text": [
      "2016-08-23\n"
     ]
    }
   ],
   "source": [
    "# Calculate the date one year from the last date in data set.\n",
    "year_prior_date = most_recent_date_obj - dt.timedelta(days=365)\n",
    "print(year_prior_date)"
   ]
  },
  {
   "cell_type": "code",
   "execution_count": 11,
   "id": "af7dcef0-8830-4601-8072-0b8ecedc9dcb",
   "metadata": {},
   "outputs": [],
   "source": [
    "# Perform a query to retrieve the data and precipitation scores\n",
    "prcp_query_results = session.query(Measurement.date, Measurement.prcp).filter(Measurement.date >= '2016-08-23').all()"
   ]
  },
  {
   "cell_type": "code",
   "execution_count": 12,
   "id": "5d764263-537b-477c-a5b8-0568133330ec",
   "metadata": {},
   "outputs": [
    {
     "data": {
      "text/html": [
       "<div>\n",
       "<style scoped>\n",
       "    .dataframe tbody tr th:only-of-type {\n",
       "        vertical-align: middle;\n",
       "    }\n",
       "\n",
       "    .dataframe tbody tr th {\n",
       "        vertical-align: top;\n",
       "    }\n",
       "\n",
       "    .dataframe thead th {\n",
       "        text-align: right;\n",
       "    }\n",
       "</style>\n",
       "<table border=\"1\" class=\"dataframe\">\n",
       "  <thead>\n",
       "    <tr style=\"text-align: right;\">\n",
       "      <th></th>\n",
       "      <th>prcp</th>\n",
       "    </tr>\n",
       "    <tr>\n",
       "      <th>date</th>\n",
       "      <th></th>\n",
       "    </tr>\n",
       "  </thead>\n",
       "  <tbody>\n",
       "    <tr>\n",
       "      <th>2016-08-23</th>\n",
       "      <td>0.00</td>\n",
       "    </tr>\n",
       "    <tr>\n",
       "      <th>2016-08-23</th>\n",
       "      <td>NaN</td>\n",
       "    </tr>\n",
       "    <tr>\n",
       "      <th>2016-08-23</th>\n",
       "      <td>1.79</td>\n",
       "    </tr>\n",
       "    <tr>\n",
       "      <th>2016-08-23</th>\n",
       "      <td>0.05</td>\n",
       "    </tr>\n",
       "    <tr>\n",
       "      <th>2016-08-23</th>\n",
       "      <td>0.15</td>\n",
       "    </tr>\n",
       "    <tr>\n",
       "      <th>...</th>\n",
       "      <td>...</td>\n",
       "    </tr>\n",
       "    <tr>\n",
       "      <th>2017-08-22</th>\n",
       "      <td>0.00</td>\n",
       "    </tr>\n",
       "    <tr>\n",
       "      <th>2017-08-23</th>\n",
       "      <td>0.00</td>\n",
       "    </tr>\n",
       "    <tr>\n",
       "      <th>2017-08-23</th>\n",
       "      <td>0.00</td>\n",
       "    </tr>\n",
       "    <tr>\n",
       "      <th>2017-08-23</th>\n",
       "      <td>0.08</td>\n",
       "    </tr>\n",
       "    <tr>\n",
       "      <th>2017-08-23</th>\n",
       "      <td>0.45</td>\n",
       "    </tr>\n",
       "  </tbody>\n",
       "</table>\n",
       "<p>2230 rows × 1 columns</p>\n",
       "</div>"
      ],
      "text/plain": [
       "            prcp\n",
       "date            \n",
       "2016-08-23  0.00\n",
       "2016-08-23   NaN\n",
       "2016-08-23  1.79\n",
       "2016-08-23  0.05\n",
       "2016-08-23  0.15\n",
       "...          ...\n",
       "2017-08-22  0.00\n",
       "2017-08-23  0.00\n",
       "2017-08-23  0.00\n",
       "2017-08-23  0.08\n",
       "2017-08-23  0.45\n",
       "\n",
       "[2230 rows x 1 columns]"
      ]
     },
     "execution_count": 12,
     "metadata": {},
     "output_type": "execute_result"
    }
   ],
   "source": [
    "# Save the query results as a Pandas DataFrame and \n",
    "prcp_query_df = pd.DataFrame(prcp_query_results, columns=[\"date\",\"prcp\"])\n",
    "\n",
    "# Set the index to the date column and sort the dataframe by date\n",
    "prcp_query_df = prcp_query_df.sort_values(\"date\").set_index(\"date\")\n",
    "prcp_query_df"
   ]
  },
  {
   "cell_type": "code",
   "execution_count": 13,
   "id": "fddc30a2-eef6-4e8f-b7be-056865da86d3",
   "metadata": {},
   "outputs": [
    {
     "data": {
      "image/png": "[encoded data removed]",
      "text/plain": [
       "<Figure size 432x288 with 1 Axes>"
      ]
     },
     "metadata": {},
     "output_type": "display_data"
    }
   ],
   "source": [
    "# Plot the dataframe using a bar plot\n",
    "prcp_query_df.plot(rot=90)\n",
    "plt.xticks(np.arange(0, 2230, step=100)) \n",
    "plt.xlabel(\"Date\")\n",
    "plt.ylabel(\"Inches\")\n",
    "plt.legend([\"precipitation\"])\n",
    "plt.show()"
   ]
  },
  {
   "cell_type": "code",
   "execution_count": 14,
   "id": "4f2c7c29-87ca-40e5-9be2-e90220ff5b05",
   "metadata": {},
   "outputs": [
    {
     "data": {
      "text/html": [
       "<div>\n",
       "<style scoped>\n",
       "    .dataframe tbody tr th:only-of-type {\n",
       "        vertical-align: middle;\n",
       "    }\n",
       "\n",
       "    .dataframe tbody tr th {\n",
       "        vertical-align: top;\n",
       "    }\n",
       "\n",
       "    .dataframe thead tr th {\n",
       "        text-align: left;\n",
       "    }\n",
       "\n",
       "    .dataframe thead tr:last-of-type th {\n",
       "        text-align: right;\n",
       "    }\n",
       "</style>\n",
       "<table border=\"1\" class=\"dataframe\">\n",
       "  <thead>\n",
       "    <tr>\n",
       "      <th></th>\n",
       "      <th colspan=\"4\" halign=\"left\">prcp</th>\n",
       "    </tr>\n",
       "    <tr>\n",
       "      <th></th>\n",
       "      <th>min</th>\n",
       "      <th>max</th>\n",
       "      <th>mean</th>\n",
       "      <th>median</th>\n",
       "    </tr>\n",
       "    <tr>\n",
       "      <th>date</th>\n",
       "      <th></th>\n",
       "      <th></th>\n",
       "      <th></th>\n",
       "      <th></th>\n",
       "    </tr>\n",
       "  </thead>\n",
       "  <tbody>\n",
       "    <tr>\n",
       "      <th>2016-08-23</th>\n",
       "      <td>0.00</td>\n",
       "      <td>1.79</td>\n",
       "      <td>0.451667</td>\n",
       "      <td>0.100</td>\n",
       "    </tr>\n",
       "    <tr>\n",
       "      <th>2016-08-24</th>\n",
       "      <td>0.08</td>\n",
       "      <td>2.28</td>\n",
       "      <td>1.555000</td>\n",
       "      <td>1.800</td>\n",
       "    </tr>\n",
       "    <tr>\n",
       "      <th>2016-08-25</th>\n",
       "      <td>0.00</td>\n",
       "      <td>0.21</td>\n",
       "      <td>0.077143</td>\n",
       "      <td>0.080</td>\n",
       "    </tr>\n",
       "    <tr>\n",
       "      <th>2016-08-26</th>\n",
       "      <td>0.00</td>\n",
       "      <td>0.04</td>\n",
       "      <td>0.016667</td>\n",
       "      <td>0.015</td>\n",
       "    </tr>\n",
       "    <tr>\n",
       "      <th>2016-08-27</th>\n",
       "      <td>0.00</td>\n",
       "      <td>0.18</td>\n",
       "      <td>0.064000</td>\n",
       "      <td>0.020</td>\n",
       "    </tr>\n",
       "    <tr>\n",
       "      <th>...</th>\n",
       "      <td>...</td>\n",
       "      <td>...</td>\n",
       "      <td>...</td>\n",
       "      <td>...</td>\n",
       "    </tr>\n",
       "    <tr>\n",
       "      <th>2017-08-19</th>\n",
       "      <td>0.00</td>\n",
       "      <td>0.09</td>\n",
       "      <td>0.030000</td>\n",
       "      <td>0.000</td>\n",
       "    </tr>\n",
       "    <tr>\n",
       "      <th>2017-08-20</th>\n",
       "      <td>0.00</td>\n",
       "      <td>0.01</td>\n",
       "      <td>0.005000</td>\n",
       "      <td>0.005</td>\n",
       "    </tr>\n",
       "    <tr>\n",
       "      <th>2017-08-21</th>\n",
       "      <td>0.00</td>\n",
       "      <td>0.56</td>\n",
       "      <td>0.193333</td>\n",
       "      <td>0.020</td>\n",
       "    </tr>\n",
       "    <tr>\n",
       "      <th>2017-08-22</th>\n",
       "      <td>0.00</td>\n",
       "      <td>0.50</td>\n",
       "      <td>0.166667</td>\n",
       "      <td>0.000</td>\n",
       "    </tr>\n",
       "    <tr>\n",
       "      <th>2017-08-23</th>\n",
       "      <td>0.00</td>\n",
       "      <td>0.45</td>\n",
       "      <td>0.132500</td>\n",
       "      <td>0.040</td>\n",
       "    </tr>\n",
       "  </tbody>\n",
       "</table>\n",
       "<p>366 rows × 4 columns</p>\n",
       "</div>"
      ],
      "text/plain": [
       "            prcp                       \n",
       "             min   max      mean median\n",
       "date                                   \n",
       "2016-08-23  0.00  1.79  0.451667  0.100\n",
       "2016-08-24  0.08  2.28  1.555000  1.800\n",
       "2016-08-25  0.00  0.21  0.077143  0.080\n",
       "2016-08-26  0.00  0.04  0.016667  0.015\n",
       "2016-08-27  0.00  0.18  0.064000  0.020\n",
       "...          ...   ...       ...    ...\n",
       "2017-08-19  0.00  0.09  0.030000  0.000\n",
       "2017-08-20  0.00  0.01  0.005000  0.005\n",
       "2017-08-21  0.00  0.56  0.193333  0.020\n",
       "2017-08-22  0.00  0.50  0.166667  0.000\n",
       "2017-08-23  0.00  0.45  0.132500  0.040\n",
       "\n",
       "[366 rows x 4 columns]"
      ]
     },
     "execution_count": 14,
     "metadata": {},
     "output_type": "execute_result"
    }
   ],
   "source": [
    "# Print the summary statistics for the precipitation data\n",
    "prcp_summary_df = prcp_query_df.groupby(by=\"date\").agg([\"min\",\"max\",\"mean\",\"median\"])\n",
    "prcp_summary_df"
   ]
  },
  {
   "cell_type": "markdown",
   "id": "aa81b849-8c5c-4949-9d56-2f74c076a72c",
   "metadata": {},
   "source": [
    "## Exploratory Station Analysis"
   ]
  },
  {
   "cell_type": "code",
   "execution_count": 15,
   "id": "fd52e9c0-960f-4b47-b897-7daef83f0e40",
   "metadata": {},
   "outputs": [
    {
     "data": {
      "text/plain": [
       "9"
      ]
     },
     "execution_count": 15,
     "metadata": {},
     "output_type": "execute_result"
    }
   ],
   "source": [
    "# Design a query to calculate the total number stations in the dataset\n",
    "station_count_query_results = session.query(Station.id).count()\n",
    "station_count_query_results"
   ]
  },
  {
   "cell_type": "code",
   "execution_count": 16,
   "id": "b9416a78-a750-4416-985a-cab326ac2158",
   "metadata": {},
   "outputs": [
    {
     "data": {
      "text/plain": [
       "[(7, 'WAIHEE 837.5, HI US', 'USC00519281', 2772),\n",
       " (1, 'WAIKIKI 717.2, HI US', 'USC00519397', 2724),\n",
       " (2, 'KANEOHE 838.1, HI US', 'USC00513117', 2709),\n",
       " (6, 'WAIMANALO EXPERIMENTAL FARM, HI US', 'USC00519523', 2669),\n",
       " (9, 'MANOA LYON ARBO 785.2, HI US', 'USC00516128', 2612),\n",
       " (3, 'KUALOA RANCH HEADQUARTERS 886.9, HI US', 'USC00514830', 2202),\n",
       " (8, 'HONOLULU OBSERVATORY 702.2, HI US', 'USC00511918', 1979),\n",
       " (4, 'PEARL CITY, HI US', 'USC00517948', 1372),\n",
       " (5, 'UPPER WAHIAWA 874.3, HI US', 'USC00518838', 511)]"
      ]
     },
     "execution_count": 16,
     "metadata": {},
     "output_type": "execute_result"
    }
   ],
   "source": [
    "# Design a query to find the most active stations (i.e. what stations have the most rows?)\n",
    "# List the stations and the counts in descending order.\n",
    "station_activity_query_results = (session.query(Station.id, Station.name, Station.station, func.count(Measurement.id))\n",
    "                                  .join(Station, Station.station == Measurement.station)\n",
    "                                  .group_by(Station.id, Station.name, Station.station)\n",
    "                                  .order_by(func.count(Measurement.id).desc())).all()\n",
    "station_activity_query_results"
   ]
  },
  {
   "cell_type": "code",
   "execution_count": 17,
   "id": "1e036766-5e2a-437e-a087-540a6f70879c",
   "metadata": {},
   "outputs": [
    {
     "data": {
      "text/plain": [
       "[('USC00519281', 54.0, 85.0, 71.66378066378067)]"
      ]
     },
     "execution_count": 17,
     "metadata": {},
     "output_type": "execute_result"
    }
   ],
   "source": [
    "# Using the most active station id from the previous query, calculate the lowest, highest, and average temperature.\n",
    "temperature_stats_query_results = (session.query(Measurement.station, \n",
    "                                                 func.min(Measurement.tobs), \n",
    "                                                 func.max(Measurement.tobs),\n",
    "                                                 func.avg(Measurement.tobs))\n",
    "                                   .join(Station, Station.station == Measurement.station)\n",
    "                                   .filter(Measurement.station == \"USC00519281\")).all()\n",
    "temperature_stats_query_results"
   ]
  },
  {
   "cell_type": "code",
   "execution_count": 18,
   "id": "981d0a3e-f7ff-4d42-a802-b4807b5b7408",
   "metadata": {},
   "outputs": [
    {
     "data": {
      "text/html": [
       "<div>\n",
       "<style scoped>\n",
       "    .dataframe tbody tr th:only-of-type {\n",
       "        vertical-align: middle;\n",
       "    }\n",
       "\n",
       "    .dataframe tbody tr th {\n",
       "        vertical-align: top;\n",
       "    }\n",
       "\n",
       "    .dataframe thead th {\n",
       "        text-align: right;\n",
       "    }\n",
       "</style>\n",
       "<table border=\"1\" class=\"dataframe\">\n",
       "  <thead>\n",
       "    <tr style=\"text-align: right;\">\n",
       "      <th></th>\n",
       "      <th>tobs</th>\n",
       "    </tr>\n",
       "    <tr>\n",
       "      <th>date</th>\n",
       "      <th></th>\n",
       "    </tr>\n",
       "  </thead>\n",
       "  <tbody>\n",
       "    <tr>\n",
       "      <th>2016-08-23</th>\n",
       "      <td>77.0</td>\n",
       "    </tr>\n",
       "    <tr>\n",
       "      <th>2016-08-24</th>\n",
       "      <td>77.0</td>\n",
       "    </tr>\n",
       "    <tr>\n",
       "      <th>2016-08-25</th>\n",
       "      <td>80.0</td>\n",
       "    </tr>\n",
       "    <tr>\n",
       "      <th>2016-08-26</th>\n",
       "      <td>80.0</td>\n",
       "    </tr>\n",
       "    <tr>\n",
       "      <th>2016-08-27</th>\n",
       "      <td>75.0</td>\n",
       "    </tr>\n",
       "  </tbody>\n",
       "</table>\n",
       "</div>"
      ],
      "text/plain": [
       "            tobs\n",
       "date            \n",
       "2016-08-23  77.0\n",
       "2016-08-24  77.0\n",
       "2016-08-25  80.0\n",
       "2016-08-26  80.0\n",
       "2016-08-27  75.0"
      ]
     },
     "execution_count": 18,
     "metadata": {},
     "output_type": "execute_result"
    }
   ],
   "source": [
    "# Using the most active station id\n",
    "# Query the last 12 months of temperature observation data for this station and plot the results as a histogram\n",
    "tempurature_history_query_results = (session.query(Measurement.date, Measurement.tobs)\n",
    "                                     .join(Station, Station.station == Measurement.station)\n",
    "                                     .filter(Measurement.station == \"USC00519281\")\n",
    "                                     .filter(Measurement.date >= '2016-08-23')\n",
    "                                     .filter(Measurement.date <= '2017-08-23'))\n",
    "\n",
    "\n",
    "temperature_history_df = pd.read_sql(sql=tempurature_history_query_results.statement, con=engine, parse_dates=\"date\").set_index(\"date\")\n",
    "temperature_history_df.head()"
   ]
  },
  {
   "cell_type": "code",
   "execution_count": 19,
   "id": "aced8978-d9cc-44fd-9ce9-0900a3720688",
   "metadata": {},
   "outputs": [
    {
     "data": {
      "image/png": "[encoded data removed]",
      "text/plain": [
       "<Figure size 432x288 with 1 Axes>"
      ]
     },
     "metadata": {},
     "output_type": "display_data"
    }
   ],
   "source": [
    "# Plot dataframe based on query resluts as a histogram\n",
    "temperature_history_df.plot(kind=\"hist\", bins=12)\n",
    "plt.xlabel(\"Temperature\")\n",
    "plt.show()"
   ]
  },
  {
   "cell_type": "markdown",
   "id": "7066fd76-304e-4d6f-bf2c-4c1d943c5e26",
   "metadata": {},
   "source": [
    "## Close session"
   ]
  },
  {
   "cell_type": "code",
   "execution_count": 31,
   "id": "d4290cd7-ed20-4cb0-9b05-48e1c51d7395",
   "metadata": {
    "tags": []
   },
   "outputs": [],
   "source": [
    "session.close()"
   ]
  }
 ],
 "metadata": {
  "kernelspec": {
   "display_name": "Python 3",
   "language": "python",
   "name": "python3"
  },
  "language_info": {
   "codemirror_mode": {
    "name": "ipython",
    "version": 3
   },
   "file_extension": ".py",
   "mimetype": "text/x-python",
   "name": "python",
   "nbconvert_exporter": "python",
   "pygments_lexer": "ipython3",
   "version": "3.8.8"
  }
 },
 "nbformat": 4,
 "nbformat_minor": 5
}
