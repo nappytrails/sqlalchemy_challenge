{
 "cells": [
  {
   "cell_type": "code",
   "execution_count": 45,
   "id": "c23ad2da-01b0-4689-9ede-b604350f279e",
   "metadata": {},
   "outputs": [],
   "source": [
    "# Import dependencies\n",
    "%matplotlib inline\n",
    "import matplotlib.pyplot as plt\n",
    "import numpy as np\n",
    "import pandas as pd\n",
    "import datetime as dt\n",
    "import sqlalchemy\n",
    "from sqlalchemy.ext.automap import automap_base\n",
    "from sqlalchemy.orm import Session\n",
    "from sqlalchemy import create_engine, func\n",
    "from sqlalchemy import text, inspect"
   ]
  },
  {
   "cell_type": "markdown",
   "id": "4e75bf25-688d-4ecc-9b9a-e63f4a8a4e0c",
   "metadata": {},
   "source": [
    "### Reflect Tables into SQLAlchemy ORM"
   ]
  },
  {
   "cell_type": "code",
   "execution_count": 30,
   "id": "e17e61df-83de-46c2-b299-57b9af0bc6b8",
   "metadata": {},
   "outputs": [],
   "source": [
    "# Create engine to hawaii.sqlite\n",
    "engine = create_engine(\"sqlite:///Resources/hawaii.sqlite\")"
   ]
  },
  {
   "cell_type": "code",
   "execution_count": 31,
   "id": "0f5398ea-3ae6-4249-b0cd-7057549409f6",
   "metadata": {},
   "outputs": [],
   "source": [
    "# reflect an existing database into a new model\n",
    "Base = automap_base()\n",
    "\n",
    "# reflect the tables\n",
    "Base.prepare(engine, reflect=True)"
   ]
  },
  {
   "cell_type": "markdown",
   "id": "c8aa808b-36bb-493b-a9dd-ec27fae470e5",
   "metadata": {},
   "source": [
    "### Explore database structure"
   ]
  },
  {
   "cell_type": "code",
   "execution_count": 49,
   "id": "49e75bd4-0960-4739-9838-5b85f6e3b2af",
   "metadata": {},
   "outputs": [
    {
     "name": "stdout",
     "output_type": "stream",
     "text": [
      "measurement\n",
      "station\n"
     ]
    }
   ],
   "source": [
    "# Create inspection object for engine\n",
    "inspector = inspect(engine)\n",
    "\n",
    "# Get table names of hawaii.sqlite\n",
    "table_names = inspector.get_table_names()\n",
    "\n",
    "for table_name in table_names:\n",
    "    print(table_name)"
   ]
  },
  {
   "cell_type": "code",
   "execution_count": 53,
   "id": "95fe66da-f160-4b22-8df5-0c11fa73bcfd",
   "metadata": {},
   "outputs": [
    {
     "name": "stdout",
     "output_type": "stream",
     "text": [
      "column name: id | data type: INTEGER | primary key: True\n",
      "column name: station | data type: TEXT | primary key: False\n",
      "column name: date | data type: TEXT | primary key: False\n",
      "column name: prcp | data type: FLOAT | primary key: False\n",
      "column name: tobs | data type: FLOAT | primary key: False\n"
     ]
    }
   ],
   "source": [
    "# Get column names of table \"measurement\"\n",
    "measurement_cols = inspector.get_columns(\"measurement\")\n",
    "\n",
    "for measurement_col in measurement_cols:\n",
    "    measurement_col_name = measurement_col[\"name\"]\n",
    "    measurement_col_type = measurement_col[\"type\"]\n",
    "    if measurement_col[\"primary_key\"] == 1:\n",
    "        primary_key_t_f = \"True\"\n",
    "    else:\n",
    "        primary_key_t_f = \"False\"\n",
    "    print(f\"column name: {measurement_col_name} | data type: {measurement_col_type} | primary key: {primary_key_t_f}\")"
   ]
  },
  {
   "cell_type": "code",
   "execution_count": 54,
   "id": "48b7c04b-e04a-4c1e-b1b5-87c26cf5cdfc",
   "metadata": {},
   "outputs": [
    {
     "name": "stdout",
     "output_type": "stream",
     "text": [
      "column name: id | data type: INTEGER | primary key: True\n",
      "column name: station | data type: TEXT | primary key: False\n",
      "column name: name | data type: TEXT | primary key: False\n",
      "column name: latitude | data type: FLOAT | primary key: False\n",
      "column name: longitude | data type: FLOAT | primary key: False\n",
      "column name: elevation | data type: FLOAT | primary key: False\n"
     ]
    }
   ],
   "source": [
    "# Get column names of table \"station\"\n",
    "station_cols = inspector.get_columns(\"station\")\n",
    "\n",
    "for station_col in station_cols:\n",
    "    station_col_name = station_col[\"name\"]\n",
    "    station_col_type = station_col[\"type\"]\n",
    "    if station_col[\"primary_key\"] == 1:\n",
    "        primary_key_t_f = \"True\"\n",
    "    else:\n",
    "        primary_key_t_f = \"False\"\n",
    "    print(f\"column name: {station_col_name} | data type: {station_col_type} | primary key: {primary_key_t_f}\")"
   ]
  },
  {
   "cell_type": "code",
   "execution_count": 39,
   "id": "05663bfc-2abf-4814-892b-d98d80f5a1aa",
   "metadata": {},
   "outputs": [],
   "source": [
    "Measurement = Base.classes.measurement\n",
    "Station = Base.classes.station"
   ]
  },
  {
   "cell_type": "code",
   "execution_count": 43,
   "id": "0fc86748-c5ca-4e49-a166-db8c80616280",
   "metadata": {},
   "outputs": [],
   "source": [
    "session = Session(bind=engine)"
   ]
  },
  {
   "cell_type": "code",
   "execution_count": 44,
   "id": "02892b05-0100-4656-b8d3-508743044eea",
   "metadata": {
    "tags": []
   },
   "outputs": [
    {
     "data": {
      "text/plain": [
       "('2017-08-23',)"
      ]
     },
     "execution_count": 44,
     "metadata": {},
     "output_type": "execute_result"
    }
   ],
   "source": [
    "most_recent_date = session.query(func.max(Measurement.date)).first()\n",
    "most_recent_date"
   ]
  }
 ],
 "metadata": {
  "kernelspec": {
   "display_name": "Python 3",
   "language": "python",
   "name": "python3"
  },
  "language_info": {
   "codemirror_mode": {
    "name": "ipython",
    "version": 3
   },
   "file_extension": ".py",
   "mimetype": "text/x-python",
   "name": "python",
   "nbconvert_exporter": "python",
   "pygments_lexer": "ipython3",
   "version": "3.8.8"
  }
 },
 "nbformat": 4,
 "nbformat_minor": 5
}
